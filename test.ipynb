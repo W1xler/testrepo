import torch

class FullyConnectedLayer:
    def __init__(self, weights, biases):
        self.weights = weights
        self.biases = biases

    def forward(self, inputs):
        return torch.matmul(inputs, self.weights.t()) + self.biases

batch_size = 5
input_size = 3
output_size = 2

weights = torch.randn(output_size, input_size)
biases = torch.randn(output_size)

fc_layer = FullyConnectedLayer(weights, biases)

inputs = torch.randn(batch_size, input_size)

outputs = fc_layer.forward(inputs)

print("Weights:\n", weights)
print("Biases:\n", biases)
print("Inputs:\n", inputs)
print("Outputs:\n", outputs)
